{
 "cells": [
  {
   "cell_type": "markdown",
   "metadata": {},
   "source": [
    "# The Uniform Probability Distribution\n",
    "\n",
    "In the next few sections we will begin to investigate common probability distributions in order to better investigate random variables. This will allow us to choose appropriate mathematical models to reflect various real world observances. The most common of these probability distributions is the uniform distribution. Here, all values have equal probability of occurence. For example, rolling a dice is a discrete probability distribution with 6 possible outcomes (1-6). If it is a fair dice, then each of these outcomes has an equivalent probability of occuring and thus can be represented by a uniform distribution. Recall that this is a discrete case as there isn't a continuous variable that can take on values between 1 and 2 (or 2 and 3, 3 and 4, etc.).\n",
    "\n",
    "In the continuous case, we define the density function of a uniform distributed random variable $y$ on the interval $(\\theta_1, \\theta_2)$ as:  \n",
    "$f(y) = \\frac{1}{\\theta_1 - \\theta_2}$ where $\\theta_1 <= y <= \\theta_2$  \n",
    "and 0 everywhere else.  "
   ]
  },
  {
   "cell_type": "code",
   "execution_count": 3,
   "metadata": {},
   "outputs": [
    {
     "data": {
      "text/plain": [
       "Text(0.5,1,'Uniform Probability Density Function')"
      ]
     },
     "execution_count": 3,
     "metadata": {},
     "output_type": "execute_result"
    },
    {
     "data": {
      "image/png": "[encoded data removed]",
      "text/plain": [
       "<Figure size 432x288 with 1 Axes>"
      ]
     },
     "metadata": {},
     "output_type": "display_data"
    }
   ],
   "source": [
    "import numpy as np\n",
    "import matplotlib.pyplot as plt\n",
    "%matplotlib inline\n",
    "\n",
    "def uniform_density(theta_1, theta_2):\n",
    "    \"\"\"Theta1 is the lower bound of possible outcomes.\n",
    "       Theta2 is the upper bound of all possible outcomes.\n",
    "       We are assuming that no other values outside of these bounds are possible,\n",
    "       and that all possabilities within those bounds have equal probability of occuring.\n",
    "    \"\"\"\n",
    "    prob = 1/(theta_2 - theta_1)\n",
    "    return prob\n",
    "\n",
    "theta_1 = 0\n",
    "theta_2 = 10\n",
    "y = np.linspace(start=theta_1, stop=theta_2, num=10**3)\n",
    "plt.plot(y, [uniform_density(theta_1, theta_2) for yi in y])\n",
    "plt.title('Uniform Probability Density Function')\n"
   ]
  },
  {
   "cell_type": "markdown",
   "metadata": {},
   "source": [
    "# Telephone Calls\n",
    "A telephone line was overloaded for 30 seconds in a minute interval. If you called during this minute, what was the chance you got connected?"
   ]
  },
  {
   "cell_type": "code",
   "execution_count": null,
   "metadata": {},
   "outputs": [],
   "source": [
    "#Your code here"
   ]
  },
  {
   "cell_type": "markdown",
   "metadata": {},
   "source": [
    "# Landing\n",
    "A parachuter lands at a random point between two markers A, and B. What is the probability that they are closer to A?"
   ]
  },
  {
   "cell_type": "code",
   "execution_count": null,
   "metadata": {},
   "outputs": [],
   "source": [
    "#Your code here"
   ]
  },
  {
   "cell_type": "markdown",
   "metadata": {},
   "source": [
    "# Landing 2\n",
    "What is the probability that they are twice as close to A as to B?"
   ]
  },
  {
   "cell_type": "code",
   "execution_count": null,
   "metadata": {},
   "outputs": [],
   "source": [
    "# Your code here"
   ]
  },
  {
   "cell_type": "markdown",
   "metadata": {},
   "source": [
    "# Error\n",
    "Sometimes error is modelled using a normal distribution. Other times a uniform distribution is used. \n",
    "In the case of cars, your spedometer is required to be accurate within 2.5% of the actual measurement.\n",
    "If your spedometer reads 70mph but and has an accuracy of +-2.5% with the errors uniformly distributed, what is the probability that you are actually driving slower then 70mph?"
   ]
  },
  {
   "cell_type": "code",
   "execution_count": null,
   "metadata": {},
   "outputs": [],
   "source": [
    "#Your code here"
   ]
  },
  {
   "cell_type": "markdown",
   "metadata": {},
   "source": [
    "# Error 2\n",
    "Using the same problem context from above, what's the probability that you are driving 69mph or slower?"
   ]
  },
  {
   "cell_type": "code",
   "execution_count": null,
   "metadata": {},
   "outputs": [],
   "source": [
    "#Your code here"
   ]
  }
 ],
 "metadata": {
  "kernelspec": {
   "display_name": "Python 3",
   "language": "python",
   "name": "python3"
  },
  "language_info": {
   "codemirror_mode": {
    "name": "ipython",
    "version": 3
   },
   "file_extension": ".py",
   "mimetype": "text/x-python",
   "name": "python",
   "nbconvert_exporter": "python",
   "pygments_lexer": "ipython3",
   "version": "3.6.4"
  }
 },
 "nbformat": 4,
 "nbformat_minor": 2
}
